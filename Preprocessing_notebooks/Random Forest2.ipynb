{
 "cells": [
  {
   "cell_type": "markdown",
   "id": "6f00b85fdd951835",
   "metadata": {},
   "source": [
    "## **Training of MODEL2**"
   ]
  },
  {
   "cell_type": "code",
   "execution_count": 1,
   "id": "initial_id",
   "metadata": {
    "ExecuteTime": {
     "end_time": "2025-05-06T13:10:03.022549Z",
     "start_time": "2025-05-06T13:10:03.020060Z"
    },
    "collapsed": true
   },
   "outputs": [],
   "source": [
    "import pandas as pd\n",
    "import numpy as np\n",
    "from keras.src.ops import dtype\n",
    "from sklearn.model_selection import train_test_split, GridSearchCV\n",
    "from sklearn.ensemble import RandomForestRegressor\n",
    "from sklearn.preprocessing import OneHotEncoder\n",
    "from sklearn.compose import ColumnTransformer\n",
    "from sklearn.pipeline import Pipeline\n",
    "from sklearn.metrics import mean_absolute_error\n",
    "import joblib\n",
    "import os"
   ]
  },
  {
   "cell_type": "code",
   "execution_count": 2,
   "id": "b53733f385cc5574",
   "metadata": {
    "ExecuteTime": {
     "end_time": "2025-05-06T13:10:03.039685Z",
     "start_time": "2025-05-06T13:10:03.038186Z"
    }
   },
   "outputs": [],
   "source": [
    "TARGET_VARIABLE = 'Time to Depletion'"
   ]
  },
  {
   "cell_type": "code",
   "execution_count": 3,
   "id": "e8b0b757fea149d3",
   "metadata": {
    "ExecuteTime": {
     "end_time": "2025-05-06T13:10:03.060033Z",
     "start_time": "2025-05-06T13:10:03.052696Z"
    }
   },
   "outputs": [],
   "source": "data = pd.read_csv(\"../Final_codes/DATASET2.csv\")"
  },
  {
   "cell_type": "code",
   "execution_count": 4,
   "id": "a42e70ed4dc79647",
   "metadata": {
    "ExecuteTime": {
     "end_time": "2025-05-06T13:10:03.080895Z",
     "start_time": "2025-05-06T13:10:03.075110Z"
    }
   },
   "outputs": [
    {
     "data": {
      "application/vnd.microsoft.datawrangler.viewer.v0+json": {
       "columns": [
        {
         "name": "index",
         "rawType": "int64",
         "type": "integer"
        },
        {
         "name": "Current",
         "rawType": "float64",
         "type": "float"
        },
        {
         "name": "Voltage",
         "rawType": "float64",
         "type": "float"
        },
        {
         "name": "Ah Out",
         "rawType": "float64",
         "type": "float"
        },
        {
         "name": "Cumulative Actual Disch Ah",
         "rawType": "float64",
         "type": "float"
        },
        {
         "name": "Power",
         "rawType": "float64",
         "type": "float"
        },
        {
         "name": "Remaining Capacity",
         "rawType": "float64",
         "type": "float"
        },
        {
         "name": "Time to Depletion",
         "rawType": "float64",
         "type": "float"
        },
        {
         "name": "type",
         "rawType": "object",
         "type": "string"
        },
        {
         "name": "capacity",
         "rawType": "float64",
         "type": "float"
        },
        {
         "name": "charged",
         "rawType": "float64",
         "type": "float"
        },
        {
         "name": "prediction",
         "rawType": "object",
         "type": "string"
        }
       ],
       "ref": "bc1baef4-f971-45b7-a755-e1fedb1e8fe9",
       "rows": [
        [
         "0",
         "3.44",
         "12.35",
         "0.0573333333333333",
         "0.0573333333333333",
         "42.484",
         "53.94266666666667",
         "56451.62790697675",
         "tn1",
         "85.0",
         "54.0",
         "[52487.35731419]"
        ],
        [
         "1",
         "6.88",
         "12.22",
         "0.1146666666666666",
         "0.172",
         "84.0736",
         "53.828",
         "28165.81395348837",
         "tn1",
         "85.0",
         "54.0",
         "[28194.30398865]"
        ],
        [
         "2",
         "6.88",
         "12.16",
         "0.1146666666666666",
         "0.2866666666666666",
         "83.6608",
         "53.71333333333333",
         "28105.81395348837",
         "tn1",
         "85.0",
         "54.0",
         "[28024.92132622]"
        ],
        [
         "3",
         "6.88",
         "12.17",
         "0.1146666666666666",
         "0.4013333333333333",
         "83.7296",
         "53.59866666666667",
         "28045.81395348837",
         "tn1",
         "85.0",
         "54.0",
         "[28033.51799506]"
        ],
        [
         "4",
         "6.87",
         "12.18",
         "0.1145",
         "0.5158333333333334",
         "83.6766",
         "53.48416666666667",
         "28026.63755458515",
         "tn1",
         "85.0",
         "54.0",
         "[28064.55257681]"
        ]
       ],
       "shape": {
        "columns": 11,
        "rows": 5
       }
      },
      "text/html": [
       "<div>\n",
       "<style scoped>\n",
       "    .dataframe tbody tr th:only-of-type {\n",
       "        vertical-align: middle;\n",
       "    }\n",
       "\n",
       "    .dataframe tbody tr th {\n",
       "        vertical-align: top;\n",
       "    }\n",
       "\n",
       "    .dataframe thead th {\n",
       "        text-align: right;\n",
       "    }\n",
       "</style>\n",
       "<table border=\"1\" class=\"dataframe\">\n",
       "  <thead>\n",
       "    <tr style=\"text-align: right;\">\n",
       "      <th></th>\n",
       "      <th>Current</th>\n",
       "      <th>Voltage</th>\n",
       "      <th>Ah Out</th>\n",
       "      <th>Cumulative Actual Disch Ah</th>\n",
       "      <th>Power</th>\n",
       "      <th>Remaining Capacity</th>\n",
       "      <th>Time to Depletion</th>\n",
       "      <th>type</th>\n",
       "      <th>capacity</th>\n",
       "      <th>charged</th>\n",
       "      <th>prediction</th>\n",
       "    </tr>\n",
       "  </thead>\n",
       "  <tbody>\n",
       "    <tr>\n",
       "      <th>0</th>\n",
       "      <td>3.44</td>\n",
       "      <td>12.35</td>\n",
       "      <td>0.057333</td>\n",
       "      <td>0.057333</td>\n",
       "      <td>42.4840</td>\n",
       "      <td>53.942667</td>\n",
       "      <td>56451.627907</td>\n",
       "      <td>tn1</td>\n",
       "      <td>85.0</td>\n",
       "      <td>54.0</td>\n",
       "      <td>[52487.35731419]</td>\n",
       "    </tr>\n",
       "    <tr>\n",
       "      <th>1</th>\n",
       "      <td>6.88</td>\n",
       "      <td>12.22</td>\n",
       "      <td>0.114667</td>\n",
       "      <td>0.172000</td>\n",
       "      <td>84.0736</td>\n",
       "      <td>53.828000</td>\n",
       "      <td>28165.813953</td>\n",
       "      <td>tn1</td>\n",
       "      <td>85.0</td>\n",
       "      <td>54.0</td>\n",
       "      <td>[28194.30398865]</td>\n",
       "    </tr>\n",
       "    <tr>\n",
       "      <th>2</th>\n",
       "      <td>6.88</td>\n",
       "      <td>12.16</td>\n",
       "      <td>0.114667</td>\n",
       "      <td>0.286667</td>\n",
       "      <td>83.6608</td>\n",
       "      <td>53.713333</td>\n",
       "      <td>28105.813953</td>\n",
       "      <td>tn1</td>\n",
       "      <td>85.0</td>\n",
       "      <td>54.0</td>\n",
       "      <td>[28024.92132622]</td>\n",
       "    </tr>\n",
       "    <tr>\n",
       "      <th>3</th>\n",
       "      <td>6.88</td>\n",
       "      <td>12.17</td>\n",
       "      <td>0.114667</td>\n",
       "      <td>0.401333</td>\n",
       "      <td>83.7296</td>\n",
       "      <td>53.598667</td>\n",
       "      <td>28045.813953</td>\n",
       "      <td>tn1</td>\n",
       "      <td>85.0</td>\n",
       "      <td>54.0</td>\n",
       "      <td>[28033.51799506]</td>\n",
       "    </tr>\n",
       "    <tr>\n",
       "      <th>4</th>\n",
       "      <td>6.87</td>\n",
       "      <td>12.18</td>\n",
       "      <td>0.114500</td>\n",
       "      <td>0.515833</td>\n",
       "      <td>83.6766</td>\n",
       "      <td>53.484167</td>\n",
       "      <td>28026.637555</td>\n",
       "      <td>tn1</td>\n",
       "      <td>85.0</td>\n",
       "      <td>54.0</td>\n",
       "      <td>[28064.55257681]</td>\n",
       "    </tr>\n",
       "  </tbody>\n",
       "</table>\n",
       "</div>"
      ],
      "text/plain": [
       "   Current  Voltage    Ah Out  Cumulative Actual Disch Ah    Power  \\\n",
       "0     3.44    12.35  0.057333                    0.057333  42.4840   \n",
       "1     6.88    12.22  0.114667                    0.172000  84.0736   \n",
       "2     6.88    12.16  0.114667                    0.286667  83.6608   \n",
       "3     6.88    12.17  0.114667                    0.401333  83.7296   \n",
       "4     6.87    12.18  0.114500                    0.515833  83.6766   \n",
       "\n",
       "   Remaining Capacity  Time to Depletion type  capacity  charged  \\\n",
       "0           53.942667       56451.627907  tn1      85.0     54.0   \n",
       "1           53.828000       28165.813953  tn1      85.0     54.0   \n",
       "2           53.713333       28105.813953  tn1      85.0     54.0   \n",
       "3           53.598667       28045.813953  tn1      85.0     54.0   \n",
       "4           53.484167       28026.637555  tn1      85.0     54.0   \n",
       "\n",
       "         prediction  \n",
       "0  [52487.35731419]  \n",
       "1  [28194.30398865]  \n",
       "2  [28024.92132622]  \n",
       "3  [28033.51799506]  \n",
       "4  [28064.55257681]  "
      ]
     },
     "execution_count": 4,
     "metadata": {},
     "output_type": "execute_result"
    }
   ],
   "source": [
    "data.head()"
   ]
  },
  {
   "cell_type": "code",
   "execution_count": 5,
   "id": "6ed7d46bc2acefed",
   "metadata": {
    "ExecuteTime": {
     "end_time": "2025-05-06T13:10:03.119195Z",
     "start_time": "2025-05-06T13:10:03.115639Z"
    }
   },
   "outputs": [
    {
     "name": "stdout",
     "output_type": "stream",
     "text": [
      "Numerical Featrures are :  ['Current', 'Voltage', 'Ah Out', 'Cumulative Actual Disch Ah', 'Power', 'Remaining Capacity', 'capacity', 'charged']\n",
      "Categorical Featrures are :  ['type', 'prediction']\n"
     ]
    }
   ],
   "source": [
    "Y = data[TARGET_VARIABLE]\n",
    "X = data.drop(TARGET_VARIABLE, axis=1)\n",
    "\n",
    "numerical_features = X.select_dtypes(include=['int64', 'float64']).columns.tolist()\n",
    "categorical_features = X.select_dtypes(include=['object', 'category']).columns.tolist()\n",
    "\n",
    "print(\"Numerical Featrures are : \", numerical_features)\n",
    "print(\"Categorical Featrures are : \", categorical_features)"
   ]
  },
  {
   "cell_type": "code",
   "execution_count": 6,
   "id": "584568adb1c7855e",
   "metadata": {
    "ExecuteTime": {
     "end_time": "2025-05-06T13:10:03.205525Z",
     "start_time": "2025-05-06T13:10:03.202714Z"
    }
   },
   "outputs": [
    {
     "name": "stdout",
     "output_type": "stream",
     "text": [
      "NaN locations:\n"
     ]
    }
   ],
   "source": [
    "print(\"NaN locations:\")\n",
    "for column in data.columns:\n",
    "    if data[column].isna().any():\n",
    "        print(f\"\\n{column}:\")\n",
    "        print(data[data[column].isna()].index)\n"
   ]
  },
  {
   "cell_type": "code",
   "execution_count": 7,
   "id": "3194a96032aa2952",
   "metadata": {
    "ExecuteTime": {
     "end_time": "2025-05-06T13:10:03.329127Z",
     "start_time": "2025-05-06T13:10:03.322797Z"
    }
   },
   "outputs": [],
   "source": [
    "X_train, X_test, Y_train, Y_test = train_test_split(X, Y, test_size=0.15, random_state=42)"
   ]
  },
  {
   "cell_type": "code",
   "execution_count": 8,
   "id": "7e097c9ac7a676eb",
   "metadata": {
    "ExecuteTime": {
     "end_time": "2025-05-06T13:10:03.353967Z",
     "start_time": "2025-05-06T13:10:03.351369Z"
    }
   },
   "outputs": [],
   "source": [
    "numerical_transformer = Pipeline(steps=[\n",
    "    ('pass',\n",
    "     'passthrough')\n",
    "])\n",
    "categorical_transformer = Pipeline(steps=[\n",
    "    ('onehot',\n",
    "     OneHotEncoder(handle_unknown='ignore',\n",
    "                   sparse_output=False))\n",
    "])"
   ]
  },
  {
   "cell_type": "code",
   "execution_count": 9,
   "id": "f201e1cd7edd7d1d",
   "metadata": {
    "ExecuteTime": {
     "end_time": "2025-05-06T13:10:03.374701Z",
     "start_time": "2025-05-06T13:10:03.372659Z"
    }
   },
   "outputs": [],
   "source": [
    "preprocessor = ColumnTransformer(transformers=[\n",
    "    ('num', numerical_transformer, numerical_features),\n",
    "    ('cat', categorical_transformer, categorical_features)\n",
    "]\n",
    "    ,remainder='passthrough')"
   ]
  },
  {
   "cell_type": "code",
   "execution_count": 10,
   "id": "18e7dadb13734a1d",
   "metadata": {
    "ExecuteTime": {
     "end_time": "2025-05-06T13:10:03.397023Z",
     "start_time": "2025-05-06T13:10:03.394462Z"
    }
   },
   "outputs": [],
   "source": [
    "rf_model = RandomForestRegressor(\n",
    "    random_state=42,\n",
    "    bootstrap=True,\n",
    "    criterion='absolute_error',\n",
    "    n_jobs=-1,\n",
    "    n_estimators=100\n",
    ")"
   ]
  },
  {
   "cell_type": "code",
   "execution_count": 11,
   "id": "e3bf702068bc2f9e",
   "metadata": {
    "ExecuteTime": {
     "end_time": "2025-05-06T13:10:03.418325Z",
     "start_time": "2025-05-06T13:10:03.416601Z"
    }
   },
   "outputs": [],
   "source": [
    "pipeline = Pipeline(steps=[\n",
    "    ('preprocessor', preprocessor),\n",
    "    ('regressor', rf_model)\n",
    "])"
   ]
  },
  {
   "cell_type": "code",
   "execution_count": 12,
   "id": "cfef186ff2d37b28",
   "metadata": {
    "ExecuteTime": {
     "end_time": "2025-05-06T13:10:03.448016Z",
     "start_time": "2025-05-06T13:10:03.443585Z"
    }
   },
   "outputs": [],
   "source": [
    "param_grid = {\n",
    "    'regressor__n_estimators' : [100,150,200],\n",
    "    'regressor__max_depth': [10,12,14],\n",
    "    'regressor__min_samples_split': [2,3,4],\n",
    "    'regressor__min_samples_leaf': [1,2,3]\n",
    "}"
   ]
  },
  {
   "cell_type": "code",
   "execution_count": 13,
   "id": "6df305425c71520d",
   "metadata": {
    "ExecuteTime": {
     "end_time": "2025-05-06T13:10:03.482833Z",
     "start_time": "2025-05-06T13:10:03.479856Z"
    }
   },
   "outputs": [],
   "source": [
    "grid_search = GridSearchCV(\n",
    "    estimator = pipeline,\n",
    "    param_grid = param_grid,\n",
    "    scoring = 'neg_mean_absolute_error',\n",
    "    cv = 2,\n",
    "    verbose = 2,\n",
    "    n_jobs = -1,\n",
    "    return_train_score = True,\n",
    "    refit = True\n",
    ")"
   ]
  },
  {
   "cell_type": "code",
   "execution_count": 14,
   "id": "e58909a093e6dfd6",
   "metadata": {
    "ExecuteTime": {
     "end_time": "2025-05-06T13:17:35.736287Z",
     "start_time": "2025-05-06T13:10:03.524010Z"
    }
   },
   "outputs": [
    {
     "name": "stdout",
     "output_type": "stream",
     "text": [
      "Initiating the Grid Search...\n",
      "Fitting 2 folds for each of 81 candidates, totalling 162 fits\n"
     ]
    },
    {
     "ename": "",
     "evalue": "",
     "output_type": "error",
     "traceback": [
      "\u001B[1;31mCannot execute code, session has been disposed. Please try restarting the Kernel."
     ]
    },
    {
     "ename": "",
     "evalue": "",
     "output_type": "error",
     "traceback": [
      "\u001B[1;31mCannot execute code, session has been disposed. Please try restarting the Kernel. \n",
      "\u001B[1;31mView Jupyter <a href='command:jupyter.viewOutput'>log</a> for further details."
     ]
    }
   ],
   "source": [
    "print(\"Initiating the Grid Search...\")\n",
    "grid_search.fit(X_train, Y_train)\n",
    "print(\"Search Finished\")"
   ]
  },
  {
   "cell_type": "code",
   "execution_count": null,
   "id": "d1bc0aff0bfe24d",
   "metadata": {
    "ExecuteTime": {
     "end_time": "2025-05-06T13:17:35.801606Z",
     "start_time": "2025-05-06T13:17:35.798801Z"
    }
   },
   "outputs": [],
   "source": [
    "best_match = grid_search.best_estimator_"
   ]
  },
  {
   "cell_type": "code",
   "execution_count": null,
   "id": "821349c66afeeef1",
   "metadata": {
    "ExecuteTime": {
     "end_time": "2025-05-06T13:17:35.888445Z",
     "start_time": "2025-05-06T13:17:35.870218Z"
    }
   },
   "outputs": [],
   "source": [
    "Y_pred = best_match.predict(X_test)"
   ]
  },
  {
   "cell_type": "code",
   "execution_count": null,
   "id": "4ca15525ff6bdae9",
   "metadata": {
    "ExecuteTime": {
     "end_time": "2025-05-06T13:17:35.930667Z",
     "start_time": "2025-05-06T13:17:35.927971Z"
    }
   },
   "outputs": [
    {
     "name": "stdout",
     "output_type": "stream",
     "text": [
      "Mean Absolute Error is : 122.26\n"
     ]
    }
   ],
   "source": [
    "mae = mean_absolute_error(Y_test, Y_pred)\n",
    "\n",
    "print(f\"Mean Absolute Error is : {mae:.2f}\")"
   ]
  },
  {
   "cell_type": "code",
   "execution_count": null,
   "id": "efa745ad327fbb5e",
   "metadata": {
    "ExecuteTime": {
     "end_time": "2025-05-06T13:17:36.006542Z",
     "start_time": "2025-05-06T13:17:35.970564Z"
    }
   },
   "outputs": [
    {
     "data": {
      "text/plain": [
       "['../models/battery_random_forest_model2.joblib']"
      ]
     },
     "execution_count": 18,
     "metadata": {},
     "output_type": "execute_result"
    }
   ],
   "source": "joblib.dump(best_match, \"../Final_codes/battery_random_forest_model2.joblib\")"
  },
  {
   "cell_type": "code",
   "execution_count": null,
   "id": "ed3597cb89c4f4bb",
   "metadata": {
    "ExecuteTime": {
     "end_time": "2025-05-06T13:17:36.069717Z",
     "start_time": "2025-05-06T13:17:36.043499Z"
    }
   },
   "outputs": [],
   "source": "loaded_model = joblib.load(\"../Final_codes/battery_random_forest_model2.joblib\")\n"
  },
  {
   "cell_type": "code",
   "execution_count": null,
   "id": "a13f43e428907f1c",
   "metadata": {
    "ExecuteTime": {
     "end_time": "2025-05-06T13:17:36.139040Z",
     "start_time": "2025-05-06T13:17:36.120521Z"
    }
   },
   "outputs": [
    {
     "name": "stdout",
     "output_type": "stream",
     "text": [
      "Mean Absolute Error is : 122.26\n"
     ]
    }
   ],
   "source": [
    "y_loaded_pred = loaded_model.predict(X_test)\n",
    "\n",
    "mae_loaded = mean_absolute_error(Y_test, y_loaded_pred)\n",
    "print(f\"Mean Absolute Error is : {mae_loaded:.2f}\")"
   ]
  },
  {
   "cell_type": "code",
   "execution_count": null,
   "id": "2bc977e7",
   "metadata": {},
   "outputs": [
    {
     "name": "stdout",
     "output_type": "stream",
     "text": [
      "Best Parameters: {'regressor__max_depth': 14, 'regressor__min_samples_leaf': 1, 'regressor__min_samples_split': 4, 'regressor__n_estimators': 100}\n"
     ]
    }
   ],
   "source": [
    "parameters=grid_search.best_params_\n",
    "print(\"Best Parameters:\", parameters)"
   ]
  },
  {
   "cell_type": "code",
   "execution_count": null,
   "id": "3c6f7ef1",
   "metadata": {},
   "outputs": [],
   "source": []
  }
 ],
 "metadata": {
  "kernelspec": {
   "display_name": ".venv",
   "language": "python",
   "name": "python3"
  },
  "language_info": {
   "codemirror_mode": {
    "name": "ipython",
    "version": 3
   },
   "file_extension": ".py",
   "mimetype": "text/x-python",
   "name": "python",
   "nbconvert_exporter": "python",
   "pygments_lexer": "ipython3",
   "version": "3.12.0"
  }
 },
 "nbformat": 4,
 "nbformat_minor": 5
}
